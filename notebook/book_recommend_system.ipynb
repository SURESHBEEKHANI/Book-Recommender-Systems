{
 "cells": [
  {
   "cell_type": "code",
   "execution_count": 115,
   "metadata": {},
   "outputs": [],
   "source": [
    "# Import necessary libraries\n",
    "\n",
    "# Import the numpy library, often used for numerical operations\n",
    "import numpy as np \n",
    "\n",
    "# Import the pandas library, used for data manipulation and analysis\n",
    "import pandas as pd \n",
    "\n",
    "##File path to the book data file\n",
    "file_path_book = r'C:\\Users\\Dell-pc\\Desktop\\Book Recommender System\\data_source\\Books.csv'\n",
    "#file path to user data file \n",
    "file_path_user= r'C:\\Users\\Dell-pc\\Desktop\\Book Recommender System\\data_source\\Users.csv'\n",
    "#file path to ratings file \n",
    "file_path_ratings= r'C:\\Users\\Dell-pc\\Desktop\\Book Recommender System\\data_source\\Ratings.csv'\n"
   ]
  },
  {
   "cell_type": "markdown",
   "metadata": {},
   "source": [
    "### Load Dataset  and  Understand the Data Structure"
   ]
  },
  {
   "cell_type": "code",
   "execution_count": 116,
   "metadata": {},
   "outputs": [
    {
     "name": "stderr",
     "output_type": "stream",
     "text": [
      "C:\\Users\\Dell-pc\\AppData\\Local\\Temp\\ipykernel_7144\\985512542.py:2: DtypeWarning: Columns (3) have mixed types. Specify dtype option on import or set low_memory=False.\n",
      "  book = pd.read_csv(file_path_book)\n"
     ]
    }
   ],
   "source": [
    "# Load the 'Books.csv' dataset into the 'book' DataFrame\n",
    "book = pd.read_csv(file_path_book)\n",
    "\n",
    "# Load the 'Users.csv' dataset into the 'users' DataFrame\n",
    "users = pd.read_csv(file_path_user)\n",
    "\n",
    "# Load the 'Ratings.csv' dataset into the 'rating' DataFrame\n",
    "ratings = pd.read_csv(file_path_ratings)\n"
   ]
  },
  {
   "cell_type": "code",
   "execution_count": 117,
   "metadata": {},
   "outputs": [
    {
     "data": {
      "text/html": [
       "<div>\n",
       "<style scoped>\n",
       "    .dataframe tbody tr th:only-of-type {\n",
       "        vertical-align: middle;\n",
       "    }\n",
       "\n",
       "    .dataframe tbody tr th {\n",
       "        vertical-align: top;\n",
       "    }\n",
       "\n",
       "    .dataframe thead th {\n",
       "        text-align: right;\n",
       "    }\n",
       "</style>\n",
       "<table border=\"1\" class=\"dataframe\">\n",
       "  <thead>\n",
       "    <tr style=\"text-align: right;\">\n",
       "      <th></th>\n",
       "      <th>ISBN</th>\n",
       "      <th>Book-Title</th>\n",
       "      <th>Book-Author</th>\n",
       "      <th>Year-Of-Publication</th>\n",
       "      <th>Publisher</th>\n",
       "      <th>Image-URL-S</th>\n",
       "      <th>Image-URL-M</th>\n",
       "      <th>Image-URL-L</th>\n",
       "    </tr>\n",
       "  </thead>\n",
       "  <tbody>\n",
       "    <tr>\n",
       "      <th>0</th>\n",
       "      <td>0195153448</td>\n",
       "      <td>Classical Mythology</td>\n",
       "      <td>Mark P. O. Morford</td>\n",
       "      <td>2002</td>\n",
       "      <td>Oxford University Press</td>\n",
       "      <td>http://images.amazon.com/images/P/0195153448.0...</td>\n",
       "      <td>http://images.amazon.com/images/P/0195153448.0...</td>\n",
       "      <td>http://images.amazon.com/images/P/0195153448.0...</td>\n",
       "    </tr>\n",
       "    <tr>\n",
       "      <th>1</th>\n",
       "      <td>0002005018</td>\n",
       "      <td>Clara Callan</td>\n",
       "      <td>Richard Bruce Wright</td>\n",
       "      <td>2001</td>\n",
       "      <td>HarperFlamingo Canada</td>\n",
       "      <td>http://images.amazon.com/images/P/0002005018.0...</td>\n",
       "      <td>http://images.amazon.com/images/P/0002005018.0...</td>\n",
       "      <td>http://images.amazon.com/images/P/0002005018.0...</td>\n",
       "    </tr>\n",
       "  </tbody>\n",
       "</table>\n",
       "</div>"
      ],
      "text/plain": [
       "         ISBN           Book-Title           Book-Author Year-Of-Publication  \\\n",
       "0  0195153448  Classical Mythology    Mark P. O. Morford                2002   \n",
       "1  0002005018         Clara Callan  Richard Bruce Wright                2001   \n",
       "\n",
       "                 Publisher                                        Image-URL-S  \\\n",
       "0  Oxford University Press  http://images.amazon.com/images/P/0195153448.0...   \n",
       "1    HarperFlamingo Canada  http://images.amazon.com/images/P/0002005018.0...   \n",
       "\n",
       "                                         Image-URL-M  \\\n",
       "0  http://images.amazon.com/images/P/0195153448.0...   \n",
       "1  http://images.amazon.com/images/P/0002005018.0...   \n",
       "\n",
       "                                         Image-URL-L  \n",
       "0  http://images.amazon.com/images/P/0195153448.0...  \n",
       "1  http://images.amazon.com/images/P/0002005018.0...  "
      ]
     },
     "execution_count": 117,
     "metadata": {},
     "output_type": "execute_result"
    }
   ],
   "source": [
    "# Display the first 2 rows of the 'book' DataFrame to show a preview of the data\n",
    "book.head(2)\n"
   ]
  },
  {
   "cell_type": "code",
   "execution_count": 118,
   "metadata": {},
   "outputs": [
    {
     "data": {
      "text/html": [
       "<div>\n",
       "<style scoped>\n",
       "    .dataframe tbody tr th:only-of-type {\n",
       "        vertical-align: middle;\n",
       "    }\n",
       "\n",
       "    .dataframe tbody tr th {\n",
       "        vertical-align: top;\n",
       "    }\n",
       "\n",
       "    .dataframe thead th {\n",
       "        text-align: right;\n",
       "    }\n",
       "</style>\n",
       "<table border=\"1\" class=\"dataframe\">\n",
       "  <thead>\n",
       "    <tr style=\"text-align: right;\">\n",
       "      <th></th>\n",
       "      <th>User-ID</th>\n",
       "      <th>Location</th>\n",
       "      <th>Age</th>\n",
       "    </tr>\n",
       "  </thead>\n",
       "  <tbody>\n",
       "    <tr>\n",
       "      <th>0</th>\n",
       "      <td>1</td>\n",
       "      <td>nyc, new york, usa</td>\n",
       "      <td>NaN</td>\n",
       "    </tr>\n",
       "    <tr>\n",
       "      <th>1</th>\n",
       "      <td>2</td>\n",
       "      <td>stockton, california, usa</td>\n",
       "      <td>18.0</td>\n",
       "    </tr>\n",
       "  </tbody>\n",
       "</table>\n",
       "</div>"
      ],
      "text/plain": [
       "   User-ID                   Location   Age\n",
       "0        1         nyc, new york, usa   NaN\n",
       "1        2  stockton, california, usa  18.0"
      ]
     },
     "execution_count": 118,
     "metadata": {},
     "output_type": "execute_result"
    }
   ],
   "source": [
    "# Display the first 2 rows of the 'Users ' DataFrame to show a preview of the data\n",
    "users.head(2)\n"
   ]
  },
  {
   "cell_type": "code",
   "execution_count": 119,
   "metadata": {},
   "outputs": [
    {
     "data": {
      "text/html": [
       "<div>\n",
       "<style scoped>\n",
       "    .dataframe tbody tr th:only-of-type {\n",
       "        vertical-align: middle;\n",
       "    }\n",
       "\n",
       "    .dataframe tbody tr th {\n",
       "        vertical-align: top;\n",
       "    }\n",
       "\n",
       "    .dataframe thead th {\n",
       "        text-align: right;\n",
       "    }\n",
       "</style>\n",
       "<table border=\"1\" class=\"dataframe\">\n",
       "  <thead>\n",
       "    <tr style=\"text-align: right;\">\n",
       "      <th></th>\n",
       "      <th>User-ID</th>\n",
       "      <th>ISBN</th>\n",
       "      <th>Book-Rating</th>\n",
       "    </tr>\n",
       "  </thead>\n",
       "  <tbody>\n",
       "    <tr>\n",
       "      <th>0</th>\n",
       "      <td>276725</td>\n",
       "      <td>034545104X</td>\n",
       "      <td>0</td>\n",
       "    </tr>\n",
       "    <tr>\n",
       "      <th>1</th>\n",
       "      <td>276726</td>\n",
       "      <td>0155061224</td>\n",
       "      <td>5</td>\n",
       "    </tr>\n",
       "  </tbody>\n",
       "</table>\n",
       "</div>"
      ],
      "text/plain": [
       "   User-ID        ISBN  Book-Rating\n",
       "0   276725  034545104X            0\n",
       "1   276726  0155061224            5"
      ]
     },
     "execution_count": 119,
     "metadata": {},
     "output_type": "execute_result"
    }
   ],
   "source": [
    "# Display the first 2 rows of the 'rating' DataFrame to show a preview of the data\n",
    "ratings.head(2)\n"
   ]
  },
  {
   "cell_type": "markdown",
   "metadata": {},
   "source": [
    "### Check The  Dataset Dimensions"
   ]
  },
  {
   "cell_type": "code",
   "execution_count": 120,
   "metadata": {},
   "outputs": [
    {
     "name": "stdout",
     "output_type": "stream",
     "text": [
      "The shape of the book DataFrame: (271360, 8)\n",
      "The shape of the users DataFrame: (278858, 3)\n",
      "The shape of the ratings DataFrame: (1149780, 3)\n"
     ]
    }
   ],
   "source": [
    "# Print the shape of the 'book' DataFrame to show its dimensions (number of rows and columns)\n",
    "print(\"The shape of the book DataFrame:\", book.shape)\n",
    "\n",
    "# Print the shape of the 'Users ' DataFrame to show its dimensions (number of rows and columns)\n",
    "print(\"The shape of the users DataFrame:\", users.shape)\n",
    "\n",
    "# Print the shape of the 'rating ' DataFrame to show its dimensions (number of rows and columns)\n",
    "print(\"The shape of the ratings DataFrame:\", ratings.shape)\n"
   ]
  },
  {
   "cell_type": "markdown",
   "metadata": {},
   "source": [
    "### Check The Null value in Dataset"
   ]
  },
  {
   "cell_type": "code",
   "execution_count": 121,
   "metadata": {},
   "outputs": [
    {
     "name": "stdout",
     "output_type": "stream",
     "text": [
      "User-ID          0\n",
      "Location         0\n",
      "Age         110762\n",
      "dtype: int64\n"
     ]
    }
   ],
   "source": [
    "# Check for missing values in the users dataset\n",
    "missing_values = users.isnull().sum()\n",
    "\n",
    "# Display the results\n",
    "print(missing_values)\n"
   ]
  },
  {
   "cell_type": "code",
   "execution_count": 122,
   "metadata": {},
   "outputs": [
    {
     "name": "stdout",
     "output_type": "stream",
     "text": [
      "ISBN                   0\n",
      "Book-Title             0\n",
      "Book-Author            2\n",
      "Year-Of-Publication    0\n",
      "Publisher              2\n",
      "Image-URL-S            0\n",
      "Image-URL-M            0\n",
      "Image-URL-L            3\n",
      "dtype: int64\n"
     ]
    }
   ],
   "source": [
    "\n",
    "# Check for missing values in book dataset \n",
    "missing_values = book.isnull().sum()\n",
    "#disply the result \n",
    "print(missing_values)\n"
   ]
  },
  {
   "cell_type": "code",
   "execution_count": 123,
   "metadata": {},
   "outputs": [
    {
     "name": "stdout",
     "output_type": "stream",
     "text": [
      "User-ID        0\n",
      "ISBN           0\n",
      "Book-Rating    0\n",
      "dtype: int64\n"
     ]
    }
   ],
   "source": [
    "#Check for missing value in ratings data set \n",
    "missing_values =ratings.isnull().sum()\n",
    "#print the missing value \n",
    "print(missing_values)\n"
   ]
  },
  {
   "cell_type": "markdown",
   "metadata": {},
   "source": [
    "### Check The Duplicate in Dataset "
   ]
  },
  {
   "cell_type": "code",
   "execution_count": 124,
   "metadata": {},
   "outputs": [
    {
     "data": {
      "text/plain": [
       "np.int64(0)"
      ]
     },
     "execution_count": 124,
     "metadata": {},
     "output_type": "execute_result"
    }
   ],
   "source": [
    "#Check the Duplicte value in ratings dataset \n",
    "ratings.duplicated().sum()\n"
   ]
  },
  {
   "cell_type": "code",
   "execution_count": 125,
   "metadata": {},
   "outputs": [
    {
     "data": {
      "text/plain": [
       "np.int64(0)"
      ]
     },
     "execution_count": 125,
     "metadata": {},
     "output_type": "execute_result"
    }
   ],
   "source": [
    "#check the duplicted value in users dataset\n",
    "users.duplicated().sum()\n"
   ]
  },
  {
   "cell_type": "code",
   "execution_count": 126,
   "metadata": {},
   "outputs": [
    {
     "data": {
      "text/plain": [
       "np.int64(0)"
      ]
     },
     "execution_count": 126,
     "metadata": {},
     "output_type": "execute_result"
    }
   ],
   "source": [
    "#check the duplicted value in book dateset \n",
    "book.duplicated().sum()\n"
   ]
  },
  {
   "cell_type": "markdown",
   "metadata": {},
   "source": [
    "### Merage The DateSet"
   ]
  },
  {
   "cell_type": "code",
   "execution_count": 127,
   "metadata": {},
   "outputs": [
    {
     "data": {
      "text/html": [
       "<div>\n",
       "<style scoped>\n",
       "    .dataframe tbody tr th:only-of-type {\n",
       "        vertical-align: middle;\n",
       "    }\n",
       "\n",
       "    .dataframe tbody tr th {\n",
       "        vertical-align: top;\n",
       "    }\n",
       "\n",
       "    .dataframe thead th {\n",
       "        text-align: right;\n",
       "    }\n",
       "</style>\n",
       "<table border=\"1\" class=\"dataframe\">\n",
       "  <thead>\n",
       "    <tr style=\"text-align: right;\">\n",
       "      <th></th>\n",
       "      <th>User-ID</th>\n",
       "      <th>ISBN</th>\n",
       "      <th>Book-Rating</th>\n",
       "      <th>Location</th>\n",
       "      <th>Age</th>\n",
       "    </tr>\n",
       "  </thead>\n",
       "  <tbody>\n",
       "    <tr>\n",
       "      <th>0</th>\n",
       "      <td>276725</td>\n",
       "      <td>034545104X</td>\n",
       "      <td>0</td>\n",
       "      <td>tyler, texas, usa</td>\n",
       "      <td>NaN</td>\n",
       "    </tr>\n",
       "    <tr>\n",
       "      <th>1</th>\n",
       "      <td>276726</td>\n",
       "      <td>0155061224</td>\n",
       "      <td>5</td>\n",
       "      <td>seattle, washington, usa</td>\n",
       "      <td>NaN</td>\n",
       "    </tr>\n",
       "    <tr>\n",
       "      <th>2</th>\n",
       "      <td>276727</td>\n",
       "      <td>0446520802</td>\n",
       "      <td>0</td>\n",
       "      <td>h, new south wales, australia</td>\n",
       "      <td>16.0</td>\n",
       "    </tr>\n",
       "    <tr>\n",
       "      <th>3</th>\n",
       "      <td>276729</td>\n",
       "      <td>052165615X</td>\n",
       "      <td>3</td>\n",
       "      <td>rijeka, n/a, croatia</td>\n",
       "      <td>16.0</td>\n",
       "    </tr>\n",
       "    <tr>\n",
       "      <th>4</th>\n",
       "      <td>276729</td>\n",
       "      <td>0521795028</td>\n",
       "      <td>6</td>\n",
       "      <td>rijeka, n/a, croatia</td>\n",
       "      <td>16.0</td>\n",
       "    </tr>\n",
       "  </tbody>\n",
       "</table>\n",
       "</div>"
      ],
      "text/plain": [
       "   User-ID        ISBN  Book-Rating                       Location   Age\n",
       "0   276725  034545104X            0              tyler, texas, usa   NaN\n",
       "1   276726  0155061224            5       seattle, washington, usa   NaN\n",
       "2   276727  0446520802            0  h, new south wales, australia  16.0\n",
       "3   276729  052165615X            3           rijeka, n/a, croatia  16.0\n",
       "4   276729  0521795028            6           rijeka, n/a, croatia  16.0"
      ]
     },
     "execution_count": 127,
     "metadata": {},
     "output_type": "execute_result"
    }
   ],
   "source": [
    " # 'User' DataFrame has a column 'User-ID' and 'ratings' DataFrame has a column 'User-ID'\n",
    "# Merge based on 'User-ID'\n",
    " ratings_new_data = pd.merge(ratings, users, on='User-ID')\n",
    "\n",
    "# Print first few rows of merged data for verification\n",
    "ratings_new_data.head()\n"
   ]
  },
  {
   "cell_type": "code",
   "execution_count": 128,
   "metadata": {},
   "outputs": [
    {
     "data": {
      "text/html": [
       "<div>\n",
       "<style scoped>\n",
       "    .dataframe tbody tr th:only-of-type {\n",
       "        vertical-align: middle;\n",
       "    }\n",
       "\n",
       "    .dataframe tbody tr th {\n",
       "        vertical-align: top;\n",
       "    }\n",
       "\n",
       "    .dataframe thead th {\n",
       "        text-align: right;\n",
       "    }\n",
       "</style>\n",
       "<table border=\"1\" class=\"dataframe\">\n",
       "  <thead>\n",
       "    <tr style=\"text-align: right;\">\n",
       "      <th></th>\n",
       "      <th>User-ID</th>\n",
       "      <th>ISBN</th>\n",
       "      <th>Book-Rating</th>\n",
       "      <th>Location</th>\n",
       "      <th>Age</th>\n",
       "      <th>Book-Title</th>\n",
       "      <th>Book-Author</th>\n",
       "      <th>Year-Of-Publication</th>\n",
       "      <th>Publisher</th>\n",
       "      <th>Image-URL-S</th>\n",
       "      <th>Image-URL-M</th>\n",
       "      <th>Image-URL-L</th>\n",
       "    </tr>\n",
       "  </thead>\n",
       "  <tbody>\n",
       "    <tr>\n",
       "      <th>0</th>\n",
       "      <td>276725</td>\n",
       "      <td>034545104X</td>\n",
       "      <td>0</td>\n",
       "      <td>tyler, texas, usa</td>\n",
       "      <td>NaN</td>\n",
       "      <td>Flesh Tones: A Novel</td>\n",
       "      <td>M. J. Rose</td>\n",
       "      <td>2002</td>\n",
       "      <td>Ballantine Books</td>\n",
       "      <td>http://images.amazon.com/images/P/034545104X.0...</td>\n",
       "      <td>http://images.amazon.com/images/P/034545104X.0...</td>\n",
       "      <td>http://images.amazon.com/images/P/034545104X.0...</td>\n",
       "    </tr>\n",
       "    <tr>\n",
       "      <th>1</th>\n",
       "      <td>276726</td>\n",
       "      <td>0155061224</td>\n",
       "      <td>5</td>\n",
       "      <td>seattle, washington, usa</td>\n",
       "      <td>NaN</td>\n",
       "      <td>Rites of Passage</td>\n",
       "      <td>Judith Rae</td>\n",
       "      <td>2001</td>\n",
       "      <td>Heinle</td>\n",
       "      <td>http://images.amazon.com/images/P/0155061224.0...</td>\n",
       "      <td>http://images.amazon.com/images/P/0155061224.0...</td>\n",
       "      <td>http://images.amazon.com/images/P/0155061224.0...</td>\n",
       "    </tr>\n",
       "    <tr>\n",
       "      <th>2</th>\n",
       "      <td>276727</td>\n",
       "      <td>0446520802</td>\n",
       "      <td>0</td>\n",
       "      <td>h, new south wales, australia</td>\n",
       "      <td>16.0</td>\n",
       "      <td>The Notebook</td>\n",
       "      <td>Nicholas Sparks</td>\n",
       "      <td>1996</td>\n",
       "      <td>Warner Books</td>\n",
       "      <td>http://images.amazon.com/images/P/0446520802.0...</td>\n",
       "      <td>http://images.amazon.com/images/P/0446520802.0...</td>\n",
       "      <td>http://images.amazon.com/images/P/0446520802.0...</td>\n",
       "    </tr>\n",
       "    <tr>\n",
       "      <th>3</th>\n",
       "      <td>276729</td>\n",
       "      <td>052165615X</td>\n",
       "      <td>3</td>\n",
       "      <td>rijeka, n/a, croatia</td>\n",
       "      <td>16.0</td>\n",
       "      <td>Help!: Level 1</td>\n",
       "      <td>Philip Prowse</td>\n",
       "      <td>1999</td>\n",
       "      <td>Cambridge University Press</td>\n",
       "      <td>http://images.amazon.com/images/P/052165615X.0...</td>\n",
       "      <td>http://images.amazon.com/images/P/052165615X.0...</td>\n",
       "      <td>http://images.amazon.com/images/P/052165615X.0...</td>\n",
       "    </tr>\n",
       "    <tr>\n",
       "      <th>4</th>\n",
       "      <td>276729</td>\n",
       "      <td>0521795028</td>\n",
       "      <td>6</td>\n",
       "      <td>rijeka, n/a, croatia</td>\n",
       "      <td>16.0</td>\n",
       "      <td>The Amsterdam Connection : Level 4 (Cambridge ...</td>\n",
       "      <td>Sue Leather</td>\n",
       "      <td>2001</td>\n",
       "      <td>Cambridge University Press</td>\n",
       "      <td>http://images.amazon.com/images/P/0521795028.0...</td>\n",
       "      <td>http://images.amazon.com/images/P/0521795028.0...</td>\n",
       "      <td>http://images.amazon.com/images/P/0521795028.0...</td>\n",
       "    </tr>\n",
       "  </tbody>\n",
       "</table>\n",
       "</div>"
      ],
      "text/plain": [
       "   User-ID        ISBN  Book-Rating                       Location   Age  \\\n",
       "0   276725  034545104X            0              tyler, texas, usa   NaN   \n",
       "1   276726  0155061224            5       seattle, washington, usa   NaN   \n",
       "2   276727  0446520802            0  h, new south wales, australia  16.0   \n",
       "3   276729  052165615X            3           rijeka, n/a, croatia  16.0   \n",
       "4   276729  0521795028            6           rijeka, n/a, croatia  16.0   \n",
       "\n",
       "                                          Book-Title      Book-Author  \\\n",
       "0                               Flesh Tones: A Novel       M. J. Rose   \n",
       "1                                   Rites of Passage       Judith Rae   \n",
       "2                                       The Notebook  Nicholas Sparks   \n",
       "3                                     Help!: Level 1    Philip Prowse   \n",
       "4  The Amsterdam Connection : Level 4 (Cambridge ...      Sue Leather   \n",
       "\n",
       "  Year-Of-Publication                   Publisher  \\\n",
       "0                2002            Ballantine Books   \n",
       "1                2001                      Heinle   \n",
       "2                1996                Warner Books   \n",
       "3                1999  Cambridge University Press   \n",
       "4                2001  Cambridge University Press   \n",
       "\n",
       "                                         Image-URL-S  \\\n",
       "0  http://images.amazon.com/images/P/034545104X.0...   \n",
       "1  http://images.amazon.com/images/P/0155061224.0...   \n",
       "2  http://images.amazon.com/images/P/0446520802.0...   \n",
       "3  http://images.amazon.com/images/P/052165615X.0...   \n",
       "4  http://images.amazon.com/images/P/0521795028.0...   \n",
       "\n",
       "                                         Image-URL-M  \\\n",
       "0  http://images.amazon.com/images/P/034545104X.0...   \n",
       "1  http://images.amazon.com/images/P/0155061224.0...   \n",
       "2  http://images.amazon.com/images/P/0446520802.0...   \n",
       "3  http://images.amazon.com/images/P/052165615X.0...   \n",
       "4  http://images.amazon.com/images/P/0521795028.0...   \n",
       "\n",
       "                                         Image-URL-L  \n",
       "0  http://images.amazon.com/images/P/034545104X.0...  \n",
       "1  http://images.amazon.com/images/P/0155061224.0...  \n",
       "2  http://images.amazon.com/images/P/0446520802.0...  \n",
       "3  http://images.amazon.com/images/P/052165615X.0...  \n",
       "4  http://images.amazon.com/images/P/0521795028.0...  "
      ]
     },
     "execution_count": 128,
     "metadata": {},
     "output_type": "execute_result"
    }
   ],
   "source": [
    "# Merge DataFrames based on 'User-ID'\n",
    "full_book_data = pd.merge(ratings_new_data, book, on='ISBN')\n",
    "\n",
    "# Print the first few rows of the merged DataFrame\n",
    "full_book_data.head()\n"
   ]
  },
  {
   "cell_type": "markdown",
   "metadata": {},
   "source": [
    "### Check The Informaction about all dataset  columan"
   ]
  },
  {
   "cell_type": "code",
   "execution_count": 129,
   "metadata": {},
   "outputs": [
    {
     "name": "stdout",
     "output_type": "stream",
     "text": [
      "<class 'pandas.core.frame.DataFrame'>\n",
      "RangeIndex: 1031136 entries, 0 to 1031135\n",
      "Data columns (total 12 columns):\n",
      " #   Column               Non-Null Count    Dtype  \n",
      "---  ------               --------------    -----  \n",
      " 0   User-ID              1031136 non-null  int64  \n",
      " 1   ISBN                 1031136 non-null  object \n",
      " 2   Book-Rating          1031136 non-null  int64  \n",
      " 3   Location             1031136 non-null  object \n",
      " 4   Age                  753301 non-null   float64\n",
      " 5   Book-Title           1031136 non-null  object \n",
      " 6   Book-Author          1031134 non-null  object \n",
      " 7   Year-Of-Publication  1031136 non-null  object \n",
      " 8   Publisher            1031134 non-null  object \n",
      " 9   Image-URL-S          1031136 non-null  object \n",
      " 10  Image-URL-M          1031136 non-null  object \n",
      " 11  Image-URL-L          1031132 non-null  object \n",
      "dtypes: float64(1), int64(2), object(9)\n",
      "memory usage: 94.4+ MB\n"
     ]
    }
   ],
   "source": [
    " #use info function check columan datatype and value \n",
    " full_book_data.info()\n"
   ]
  },
  {
   "cell_type": "markdown",
   "metadata": {},
   "source": [
    "### Data Visualization"
   ]
  },
  {
   "cell_type": "code",
   "execution_count": 130,
   "metadata": {},
   "outputs": [
    {
     "name": "stderr",
     "output_type": "stream",
     "text": [
      "C:\\Users\\Dell-pc\\AppData\\Local\\Temp\\ipykernel_7144\\1986835801.py:30: FutureWarning: \n",
      "\n",
      "Passing `palette` without assigning `hue` is deprecated and will be removed in v0.14.0. Assign the `x` variable to `hue` and set `legend=False` for the same effect.\n",
      "\n",
      "  ax = sns.barplot(x=ratings_count.index, y=ratings_count.values, palette=color_palette)\n"
     ]
    },
    {
     "data": {
      "image/png": "[encoded data removed]",
      "text/plain": [
       "<Figure size 1200x600 with 1 Axes>"
      ]
     },
     "metadata": {},
     "output_type": "display_data"
    }
   ],
   "source": [
    "# Import necessary libraries for plotting\n",
    "\n",
    "# Importing the pyplot module from matplotlib for creating visualizations\n",
    "import matplotlib.pyplot as plt\n",
    "\n",
    "# Importing the seaborn library for advanced visualizations and aesthetic plots\n",
    "import seaborn as sns\n",
    "\n",
    "# Assuming 'full_book_data' is your DataFrame containing book ratings\n",
    "\n",
    "# Counting the occurrences of each rating value in the 'Book-Rating' column\n",
    "# value_counts() counts the number of times each unique value appears in the column\n",
    "# sort_index() sorts the result by the rating values (index)\n",
    "ratings_count = full_book_data['Book-Rating'].value_counts().sort_index()\n",
    "\n",
    "# Generate a color palette based on the number of unique ratings\n",
    "# 'viridis' is a color palette provided by seaborn, and the number of colors generated\n",
    "# is equal to the number of unique rating values\n",
    "color_palette = sns.color_palette('viridis', len(ratings_count))\n",
    "\n",
    "# Plotting the distribution of book ratings\n",
    "\n",
    "# Create a figure with a specific size\n",
    "plt.figure(figsize=(12, 6))\n",
    "\n",
    "# Create a bar plot using seaborn with custom colors from the generated palette\n",
    "# x=ratings_count.index provides the rating values for the x-axis\n",
    "# y=ratings_count.values provides the count of each rating value for the y-axis\n",
    "# palette=color_palette sets the colors for the bars\n",
    "ax = sns.barplot(x=ratings_count.index, y=ratings_count.values, palette=color_palette)\n",
    "\n",
    "# Set the title of the plot\n",
    "plt.title('Counts of Book Ratings')\n",
    "\n",
    "# Set the label for the x-axis\n",
    "plt.xlabel('Book Rating')\n",
    "\n",
    "# Set the label for the y-axis\n",
    "plt.ylabel('Count')\n",
    "\n",
    "# Rotate the x-axis labels by 45 degrees for better readability\n",
    "plt.xticks(rotation=45)\n",
    "\n",
    "# Adjust the plot layout to make sure everything fits without overlapping\n",
    "plt.tight_layout()\n",
    "\n",
    "# Adding count numbers on top of each bar\n",
    "# Iterate over each patch (bar) in the plot\n",
    "for p in ax.patches:\n",
    "    # Annotate the height (count) on top of each bar\n",
    "    ax.annotate(f'{p.get_height():.0f}', \n",
    "                (p.get_x() + p.get_width() / 2., p.get_height()), # Position of the text\n",
    "                ha='center', va='center', fontsize=10, color='black', # Text properties\n",
    "                xytext=(0, 5), textcoords='offset points') # Offset the text by 5 points vertically\n",
    "\n",
    "# Display the plot\n",
    "plt.show()\n"
   ]
  },
  {
   "cell_type": "code",
   "execution_count": 131,
   "metadata": {},
   "outputs": [
    {
     "name": "stdout",
     "output_type": "stream",
     "text": [
      "Count of Book Ratings: 1031136\n",
      "Minimum Book Rating: 0\n",
      "Maximum Book Rating: 10\n",
      "Mean Book Rating: 2.839051298761754\n"
     ]
    }
   ],
   "source": [
    "##Calculate count, minimum, maximum, and mean of Book-Rating\n",
    "count_ratings = full_book_data['Book-Rating'].count()\n",
    "min_rating = full_book_data['Book-Rating'].min()\n",
    "max_rating = full_book_data['Book-Rating'].max()\n",
    "mean_rating = full_book_data['Book-Rating'].mean()\n",
    "\n",
    "# Print the results\n",
    "print(\"Count of Book Ratings:\", count_ratings)\n",
    "print(\"Minimum Book Rating:\", min_rating)\n",
    "print(\"Maximum Book Rating:\", max_rating)\n",
    "print(\"Mean Book Rating:\", mean_rating)\n"
   ]
  },
  {
   "cell_type": "markdown",
   "metadata": {},
   "source": [
    " ## Popularity-Based Recommender Systems:\n",
    "\n",
    "Popularity-based recommender systems recommend items to users based on their general popularity or trending status among all users. They do not consider individual user preferences but instead focus on suggesting items that have high overall engagement metrics such as views, purchases, or ratings. These systems are straightforward to implement and understand, making them suitable for scenarios where personalization based on user preferences is not a priority. However, they may not provide relevant recommendations for users with specific tastes or for niche items that have not yet gained popularity. Despite these limitations, popularity-based systems serve as a useful starting point in recommendation systems, especially for new users or when detailed user data is limited."
   ]
  },
  {
   "cell_type": "code",
   "execution_count": 132,
   "metadata": {},
   "outputs": [],
   "source": [
    "# Calculate the number of ratings for each book title and filter books with 250 or more ratings\n",
    "\n",
    "# 'full_book_data' is assumed to be a DataFrame containing data about books, including their titles and ratings.\n",
    "\n",
    "# Group the DataFrame by 'Book-Title' and count the number of ratings for each book\n",
    "# This creates a new DataFrame 'num_Rating_df' where each row represents a book title and its number of ratings.\n",
    "num_Rating_df = full_book_data.groupby('Book-Title').count()['Book-Rating'].reset_index()\n",
    "\n",
    "# Rename the column 'Book-Rating' to 'num_ratings' for clarity\n",
    "# This makes the DataFrame easier to understand by renaming the column that represents the count of ratings.\n",
    "num_Rating_df.rename(columns={'Book-Rating': 'num_ratings'}, inplace=True)\n"
   ]
  },
  {
   "cell_type": "code",
   "execution_count": 133,
   "metadata": {},
   "outputs": [
    {
     "data": {
      "text/html": [
       "<div>\n",
       "<style scoped>\n",
       "    .dataframe tbody tr th:only-of-type {\n",
       "        vertical-align: middle;\n",
       "    }\n",
       "\n",
       "    .dataframe tbody tr th {\n",
       "        vertical-align: top;\n",
       "    }\n",
       "\n",
       "    .dataframe thead th {\n",
       "        text-align: right;\n",
       "    }\n",
       "</style>\n",
       "<table border=\"1\" class=\"dataframe\">\n",
       "  <thead>\n",
       "    <tr style=\"text-align: right;\">\n",
       "      <th></th>\n",
       "      <th>Book-Title</th>\n",
       "      <th>num_ratings</th>\n",
       "    </tr>\n",
       "  </thead>\n",
       "  <tbody>\n",
       "    <tr>\n",
       "      <th>0</th>\n",
       "      <td>A Light in the Storm: The Civil War Diary of ...</td>\n",
       "      <td>4</td>\n",
       "    </tr>\n",
       "    <tr>\n",
       "      <th>1</th>\n",
       "      <td>Always Have Popsicles</td>\n",
       "      <td>1</td>\n",
       "    </tr>\n",
       "    <tr>\n",
       "      <th>2</th>\n",
       "      <td>Apple Magic (The Collector's series)</td>\n",
       "      <td>1</td>\n",
       "    </tr>\n",
       "    <tr>\n",
       "      <th>3</th>\n",
       "      <td>Ask Lily (Young Women of Faith: Lily Series, ...</td>\n",
       "      <td>1</td>\n",
       "    </tr>\n",
       "    <tr>\n",
       "      <th>4</th>\n",
       "      <td>Beyond IBM: Leadership Marketing and Finance ...</td>\n",
       "      <td>1</td>\n",
       "    </tr>\n",
       "  </tbody>\n",
       "</table>\n",
       "</div>"
      ],
      "text/plain": [
       "                                          Book-Title  num_ratings\n",
       "0   A Light in the Storm: The Civil War Diary of ...            4\n",
       "1                              Always Have Popsicles            1\n",
       "2               Apple Magic (The Collector's series)            1\n",
       "3   Ask Lily (Young Women of Faith: Lily Series, ...            1\n",
       "4   Beyond IBM: Leadership Marketing and Finance ...            1"
      ]
     },
     "execution_count": 133,
     "metadata": {},
     "output_type": "execute_result"
    }
   ],
   "source": [
    "# Display the first few rows of the num_Rating_df DataFrame\n",
    "\n",
    "# This allows us to inspect the initial records of num_Rating_df,\n",
    "# showing the book titles and their corresponding number of ratings.\n",
    "num_Rating_df.head()\n"
   ]
  },
  {
   "cell_type": "code",
   "execution_count": 134,
   "metadata": {},
   "outputs": [],
   "source": [
    "# Calculate the average ratings for each book\n",
    "\n",
    "# 'full_book_data' is assumed to be a DataFrame containing data about books, including their titles and ratings\n",
    "\n",
    "# Group the DataFrame by 'Book-Title' and calculate the mean of the 'Book-Rating' for each group\n",
    "# This results in a new DataFrame where each row corresponds to a book title and its average rating\n",
    "avg_rating_df = full_book_data.groupby('Book-Title')['Book-Rating'].mean().reset_index()\n",
    "\n",
    "# Rename the 'Book-Rating' column to something more descriptive, if needed\n",
    "# The .rename method is used to change column names in the DataFrame\n",
    "avg_rating_df.rename(columns={'Book-Rating': 'Avg_Rating'}, inplace=True)\n"
   ]
  },
  {
   "cell_type": "code",
   "execution_count": 135,
   "metadata": {},
   "outputs": [
    {
     "data": {
      "text/plain": [
       "(241071, 2)"
      ]
     },
     "execution_count": 135,
     "metadata": {},
     "output_type": "execute_result"
    }
   ],
   "source": [
    "# Display the first 5 rows of the avg_rating_df DataFrame to inspect the results\n",
    "# This allows us to see a sample of the average ratings calculated for each book\n",
    "avg_rating_df.shape\n"
   ]
  },
  {
   "cell_type": "code",
   "execution_count": 136,
   "metadata": {},
   "outputs": [],
   "source": [
    "# Merge two DataFrames based on the 'Book-Title' column\n",
    "\n",
    "# 'num_Rating_df' and 'avg_rating_df' are assumed to be DataFrames containing related information about books,\n",
    "# with 'num_Rating_df' having the number of ratings for each book and 'avg_rating_df' having the average ratings.\n",
    "\n",
    "# Merge the two DataFrames using the 'Book-Title' column as the key for merging\n",
    "# This operation combines the information from both DataFrames into a single DataFrame, 'popular_df',\n",
    "# where each row corresponds to a book title, along with its number of ratings and average rating.\n",
    "popular_df = num_Rating_df.merge(avg_rating_df, on='Book-Title')\n"
   ]
  },
  {
   "cell_type": "code",
   "execution_count": 137,
   "metadata": {},
   "outputs": [
    {
     "data": {
      "text/plain": [
       "(241071, 3)"
      ]
     },
     "execution_count": 137,
     "metadata": {},
     "output_type": "execute_result"
    }
   ],
   "source": [
    "popular_df.shape\n"
   ]
  },
  {
   "cell_type": "code",
   "execution_count": 138,
   "metadata": {},
   "outputs": [],
   "source": [
    "# Filter books with 250 or more ratings\n",
    "# 'popular_df' is assumed to be a DataFrame containing book information\n",
    "# The DataFrame is being filtered to include only rows where the 'num_ratings' column has a value of 250 or more\n",
    "# After filtering, the resulting DataFrame is sorted by the 'Avg_rating' column in descending order\n",
    "# Finally, the top 50 rows of the sorted DataFrame are selected and displayed\n",
    "popular_df = popular_df[popular_df['num_ratings'] >= 250].sort_values('Avg_Rating', ascending=False).head(5)\n"
   ]
  },
  {
   "cell_type": "code",
   "execution_count": 139,
   "metadata": {},
   "outputs": [],
   "source": [
    "##prea the final use for popularty base recend system \n",
    "popular_df = popular_df.merge(book, on='Book-Title').drop_duplicates('Book-Title')[['Book-Title', 'Book-Author', 'Image-URL-M', 'num_ratings', 'Avg_Rating']]\n"
   ]
  },
  {
   "cell_type": "code",
   "execution_count": 140,
   "metadata": {},
   "outputs": [
    {
     "data": {
      "text/html": [
       "<div>\n",
       "<style scoped>\n",
       "    .dataframe tbody tr th:only-of-type {\n",
       "        vertical-align: middle;\n",
       "    }\n",
       "\n",
       "    .dataframe tbody tr th {\n",
       "        vertical-align: top;\n",
       "    }\n",
       "\n",
       "    .dataframe thead th {\n",
       "        text-align: right;\n",
       "    }\n",
       "</style>\n",
       "<table border=\"1\" class=\"dataframe\">\n",
       "  <thead>\n",
       "    <tr style=\"text-align: right;\">\n",
       "      <th></th>\n",
       "      <th>Book-Title</th>\n",
       "      <th>Book-Author</th>\n",
       "      <th>Image-URL-M</th>\n",
       "      <th>num_ratings</th>\n",
       "      <th>Avg_Rating</th>\n",
       "    </tr>\n",
       "  </thead>\n",
       "  <tbody>\n",
       "    <tr>\n",
       "      <th>0</th>\n",
       "      <td>Harry Potter and the Prisoner of Azkaban (Book 3)</td>\n",
       "      <td>J. K. Rowling</td>\n",
       "      <td>http://images.amazon.com/images/P/0439136350.0...</td>\n",
       "      <td>428</td>\n",
       "      <td>5.852804</td>\n",
       "    </tr>\n",
       "    <tr>\n",
       "      <th>3</th>\n",
       "      <td>Harry Potter and the Goblet of Fire (Book 4)</td>\n",
       "      <td>J. K. Rowling</td>\n",
       "      <td>http://images.amazon.com/images/P/0439139597.0...</td>\n",
       "      <td>387</td>\n",
       "      <td>5.824289</td>\n",
       "    </tr>\n",
       "    <tr>\n",
       "      <th>5</th>\n",
       "      <td>Harry Potter and the Sorcerer's Stone (Book 1)</td>\n",
       "      <td>J. K. Rowling</td>\n",
       "      <td>http://images.amazon.com/images/P/0590353403.0...</td>\n",
       "      <td>278</td>\n",
       "      <td>5.737410</td>\n",
       "    </tr>\n",
       "    <tr>\n",
       "      <th>9</th>\n",
       "      <td>Harry Potter and the Order of the Phoenix (Boo...</td>\n",
       "      <td>J. K. Rowling</td>\n",
       "      <td>http://images.amazon.com/images/P/043935806X.0...</td>\n",
       "      <td>347</td>\n",
       "      <td>5.501441</td>\n",
       "    </tr>\n",
       "    <tr>\n",
       "      <th>13</th>\n",
       "      <td>Harry Potter and the Chamber of Secrets (Book 2)</td>\n",
       "      <td>J. K. Rowling</td>\n",
       "      <td>http://images.amazon.com/images/P/0439064872.0...</td>\n",
       "      <td>556</td>\n",
       "      <td>5.183453</td>\n",
       "    </tr>\n",
       "  </tbody>\n",
       "</table>\n",
       "</div>"
      ],
      "text/plain": [
       "                                           Book-Title    Book-Author  \\\n",
       "0   Harry Potter and the Prisoner of Azkaban (Book 3)  J. K. Rowling   \n",
       "3        Harry Potter and the Goblet of Fire (Book 4)  J. K. Rowling   \n",
       "5      Harry Potter and the Sorcerer's Stone (Book 1)  J. K. Rowling   \n",
       "9   Harry Potter and the Order of the Phoenix (Boo...  J. K. Rowling   \n",
       "13   Harry Potter and the Chamber of Secrets (Book 2)  J. K. Rowling   \n",
       "\n",
       "                                          Image-URL-M  num_ratings  Avg_Rating  \n",
       "0   http://images.amazon.com/images/P/0439136350.0...          428    5.852804  \n",
       "3   http://images.amazon.com/images/P/0439139597.0...          387    5.824289  \n",
       "5   http://images.amazon.com/images/P/0590353403.0...          278    5.737410  \n",
       "9   http://images.amazon.com/images/P/043935806X.0...          347    5.501441  \n",
       "13  http://images.amazon.com/images/P/0439064872.0...          556    5.183453  "
      ]
     },
     "execution_count": 140,
     "metadata": {},
     "output_type": "execute_result"
    }
   ],
   "source": [
    "popular_df.head()\n"
   ]
  },
  {
   "cell_type": "markdown",
   "metadata": {},
   "source": [
    " ## Collaborative Filtering Based Recommender\n",
    "\n",
    " Filtering: Recommends items based on the preferences and behaviors of similar users or items. It can be user-based (recommending items liked by users with similar tastes) or item-based (recommending similar items to those previously liked)."
   ]
  }
 ],
 "metadata": {
  "kernelspec": {
   "display_name": "Python 3",
   "language": "python",
   "name": "python3"
  },
  "language_info": {
   "codemirror_mode": {
    "name": "ipython",
    "version": 3
   },
   "file_extension": ".py",
   "mimetype": "text/x-python",
   "name": "python",
   "nbconvert_exporter": "python",
   "pygments_lexer": "ipython3",
   "version": "3.10.14"
  }
 },
 "nbformat": 4,
 "nbformat_minor": 2
}
